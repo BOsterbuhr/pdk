{
 "cells": [
  {
   "cell_type": "markdown",
   "id": "a3db2d70-a547-4ae5-90af-41776ccdc1df",
   "metadata": {},
   "source": [
    "<img src=\"https://github.com/denisabrantes/pdk-use-cases/blob/main/images/hpe_logo.png?raw=true\" alt=\"HPE Logo\" width=\"250\" style=\"align:left;margin-left:0;\"/>"
   ]
  },
  {
   "cell_type": "markdown",
   "id": "d8c985c8-c8e7-470b-bc86-2e90965a2316",
   "metadata": {},
   "source": [
    "<h1>Object Detection Prediction from KServe InferenceService</h1>\n",
    "\n",
    "<b>Date: 01/02/24</b><br/>\n",
    "<b>Version: 0.1</b><br/>\n",
    "<b>Authors: HPE AI At Scale SE Team</b>"
   ]
  },
  {
   "cell_type": "markdown",
   "id": "8f5d81ea-a298-4222-af50-aba99892d0db",
   "metadata": {},
   "source": [
    "<img src=\"https://github.com/denisabrantes/pdk-use-cases/blob/main/images/platform_step0.png?raw=true\" alt=\"Enterprise Machine Learning platform architecture\" width=\"850\">"
   ]
  },
  {
   "cell_type": "markdown",
   "id": "67a9655b-fe98-4e12-a39a-1f88dc44030c",
   "metadata": {},
   "source": [
    "<h3>Import modules and define functions</h3>\n",
    "The cells below imports all modules and libraries required to run the demo."
   ]
  },
  {
   "cell_type": "code",
   "execution_count": null,
   "id": "536d3073-63ac-4cc9-a68c-b3e1bbfa7672",
   "metadata": {},
   "outputs": [],
   "source": [
    "# !pip install -q ipywidgets\n",
    "# !pip install -q scikit-image"
   ]
  },
  {
   "cell_type": "code",
   "execution_count": 1,
   "id": "114d7b4b-670e-4cd5-9f3d-49fe9b7701dc",
   "metadata": {},
   "outputs": [],
   "source": [
    "import sys\n",
    "import glob\n",
    "import base64\n",
    "import json\n",
    "import requests\n",
    "import matplotlib.pyplot as plt\n",
    "\n",
    "from skimage import io\n",
    "from PIL import Image, ImageDraw\n",
    "from ipywidgets import interact, interactive\n",
    "import ipywidgets as widgets\n",
    "import io\n",
    "\n",
    "from tqdm import tqdm\n",
    "from multiprocessing import Pool"
   ]
  },
  {
   "cell_type": "markdown",
   "id": "d86e3b72-5baa-4645-a875-71cb2097eb57",
   "metadata": {},
   "source": [
    "<h2>Part 1: Use this code to load images from a folder and generate predictions</h2>"
   ]
  },
  {
   "cell_type": "markdown",
   "id": "c0058c92-9328-43a3-9fa6-f519b4467b84",
   "metadata": {},
   "source": [
    "<h4>Step 1: Setting up connection details to KServe</h4>"
   ]
  },
  {
   "cell_type": "code",
   "execution_count": 2,
   "id": "e3952c64-fb9b-49ca-a4b6-0fbe5e196666",
   "metadata": {},
   "outputs": [],
   "source": [
    "endpoint_name = \"detection-deploy\"\n",
    "model_name =\"object-detection\"\n",
    "ingress_host = \"192.168.1.2\"\n",
    "ingress_port = \"80\"\n",
    "service_hostname = \"detection-deploy.models.example.com\""
   ]
  },
  {
   "cell_type": "markdown",
   "id": "da90ec6d-e0c5-4fdf-b6f8-d146bd71d9a9",
   "metadata": {},
   "source": [
    "<h4>Step 2: Request prediction from KServe InferenceService</h4>"
   ]
  },
  {
   "cell_type": "code",
   "execution_count": 3,
   "id": "75d577ac-f48f-4368-a7ba-27cce644da8f",
   "metadata": {},
   "outputs": [],
   "source": [
    "def plot_pred(im,pred_d,thres=0.15):\n",
    "    draw = ImageDraw.Draw(im)\n",
    "    try:\n",
    "        for pred in pred_d['predictions'][0]:\n",
    "            assert len(list(pred.keys())) == 2\n",
    "            cl_name = list(pred.keys())[0]\n",
    "            bboxes = pred[cl_name]\n",
    "            if pred['score'] > thres:\n",
    "                draw.rectangle([bboxes[0],bboxes[1],bboxes[2],bboxes[3]],outline=(255,0,0),fill=None,width=1)\n",
    "                draw.text([bboxes[0],bboxes[1]-10],\"{} :{:.2f}\".format(cl_name,pred['score']),fill=(250,0,0))\n",
    "        plt.figure(figsize=(8,8))\n",
    "    except Exception as e:\n",
    "        print(e)\n",
    "        pass\n",
    "    plt.imshow(im)\n",
    "    plt.show()\n",
    "    return im"
   ]
  },
  {
   "cell_type": "code",
   "execution_count": 4,
   "id": "0c82c9e1-c256-4409-9020-2c777039c386",
   "metadata": {},
   "outputs": [],
   "source": [
    "def predict(args):\n",
    "    image= Image.open(args[0])\n",
    "    with io.BytesIO() as buffer:\n",
    "        image.save(buffer, format='JPEG')\n",
    "        image_bytes = buffer.getvalue()\n",
    "    image_64_encode = base64.b64encode(image_bytes)\n",
    "    bytes_array = image_64_encode.decode(\"utf-8\")\n",
    "    \n",
    "    # Format the request in json\n",
    "    request = {\n",
    "      \"instances\":[\n",
    "        {\n",
    "          \"data\": bytes_array\n",
    "        }\n",
    "      ]\n",
    "    }\n",
    "    ingress_host = args[1]\n",
    "    ingress_port = args[2]\n",
    "    model_name = args[3]\n",
    "    service_hostname = args[4]\n",
    "\n",
    "    url = str(\"http://\") + str(ingress_host) + \":\" + str(ingress_port) + \"/v1/models/\" + str(model_name) + \":predict\"\n",
    "    headers = {'Host': service_hostname, \"Content-Type\" : \"application/json\"}\n",
    "    payload = json.dumps(request)\n",
    "\n",
    "    response = requests.post(url, data=payload, headers=headers)\n",
    "    return response.json()"
   ]
  },
  {
   "cell_type": "code",
   "execution_count": 5,
   "id": "19297dff-18e3-4e9a-b890-d82f809aae02",
   "metadata": {},
   "outputs": [],
   "source": [
    "def visualize(idx,thres=0.15):\n",
    "    print(idx,thres)\n",
    "    output = resps[idx]\n",
    "    im = Image.open(imgs[idx])\n",
    "    plot_pred(im,output,thres)"
   ]
  },
  {
   "cell_type": "code",
   "execution_count": 6,
   "id": "71443965-ce56-4af0-b2c8-8a1f9146434d",
   "metadata": {},
   "outputs": [],
   "source": [
    "def run_apply_async_multiprocessing(func, argument_list, num_processes):\n",
    "    pool = Pool(processes=num_processes)\n",
    "\n",
    "    jobs = [pool.apply_async(func=func, args=(*argument,)) if isinstance(argument, tuple) else pool.apply_async(func=func, args=(argument,)) for argument in argument_list]\n",
    "    pool.close()\n",
    "    result_list_tqdm = []\n",
    "    for job in tqdm(jobs):\n",
    "        result_list_tqdm.append(job.get())\n",
    "\n",
    "    return result_list_tqdm"
   ]
  },
  {
   "cell_type": "code",
   "execution_count": 7,
   "id": "cd0c1052-922d-495c-a831-86fdfafe3095",
   "metadata": {},
   "outputs": [],
   "source": [
    "images = r\"./images/*.jpg\""
   ]
  },
  {
   "cell_type": "code",
   "execution_count": 8,
   "id": "72a34b60-9200-448d-8e7b-8997db84e581",
   "metadata": {},
   "outputs": [],
   "source": [
    "imgs = [img for img in glob.glob(images, recursive=True)]"
   ]
  },
  {
   "cell_type": "code",
   "execution_count": 9,
   "id": "7be4eaec-376f-4f9d-ad5c-b63335b966bd",
   "metadata": {},
   "outputs": [
    {
     "name": "stderr",
     "output_type": "stream",
     "text": [
      "100%|██████████| 1/1 [00:01<00:00,  1.25s/it]\n"
     ]
    }
   ],
   "source": [
    "resps = run_apply_async_multiprocessing(predict,\n",
    "                                        [[imgs[i],\n",
    "                                        ingress_host,\n",
    "                                        ingress_port,\n",
    "                                        model_name,\n",
    "                                        service_hostname] for i in range(len(imgs))],num_processes=4)"
   ]
  },
  {
   "cell_type": "code",
   "execution_count": 10,
   "id": "8492a8cb-3f84-41ca-b5a6-578abc100d3b",
   "metadata": {},
   "outputs": [
    {
     "data": {
      "application/vnd.jupyter.widget-view+json": {
       "model_id": "f31f435f64f043418fd776e2864ca6b3",
       "version_major": 2,
       "version_minor": 0
      },
      "text/plain": [
       "interactive(children=(IntSlider(value=0, description='idx', max=1), FloatSlider(value=0.0, description='thres'…"
      ]
     },
     "metadata": {},
     "output_type": "display_data"
    }
   ],
   "source": [
    "interact(visualize, \n",
    "         idx=widgets.IntSlider(min=0, max=len(resps), step=1, value=0),\n",
    "         thres = widgets.FloatSlider(min=0, max=1.0, step=0.1, value=0.00));"
   ]
  },
  {
   "cell_type": "code",
   "execution_count": null,
   "id": "c6ad65cd-28db-486b-a103-a467c83193bf",
   "metadata": {},
   "outputs": [],
   "source": []
  },
  {
   "cell_type": "markdown",
   "id": "3109992f-3409-44b1-bac7-846cc7e299db",
   "metadata": {},
   "source": [
    "<h2>Part 2: Use this code to load the sample .json files and generate predictions</h2>"
   ]
  },
  {
   "cell_type": "code",
   "execution_count": 11,
   "id": "53875828-b54e-483f-88bf-4fb7f5ff1016",
   "metadata": {},
   "outputs": [],
   "source": [
    "with open(\"object_detection.json\", \"r\") as objfile:\n",
    "    imgfile = json.loads(objfile.read())"
   ]
  },
  {
   "cell_type": "code",
   "execution_count": 12,
   "id": "ed9be21f-3f29-4c29-a8e4-b8a5b342fde1",
   "metadata": {},
   "outputs": [],
   "source": [
    "jsonimg = imgfile[\"instances\"][0][\"data\"]"
   ]
  },
  {
   "cell_type": "code",
   "execution_count": 13,
   "id": "eee00ae1-6732-46a1-8e5b-2b1228a9c783",
   "metadata": {},
   "outputs": [],
   "source": [
    "# Format the request in json\n",
    "request = {\n",
    "  \"instances\":[\n",
    "    {\n",
    "      \"data\": jsonimg\n",
    "    }\n",
    "  ]\n",
    "}\n",
    "\n",
    "url = str(\"http://\") + str(ingress_host) + \":\" + str(ingress_port) + \"/v1/models/\" + str(model_name) + \":predict\"\n",
    "headers = {'Host': service_hostname, \"Content-Type\" : \"application/json\"}\n",
    "payload = json.dumps(request)\n",
    "\n",
    "response = requests.post(url, data=payload, headers=headers)"
   ]
  },
  {
   "cell_type": "code",
   "execution_count": 14,
   "id": "c1806f0d-1f72-4769-aa89-3a8beb9ef59d",
   "metadata": {},
   "outputs": [
    {
     "name": "stdout",
     "output_type": "stream",
     "text": [
      "{'predictions': [[{'Cargo Plane': [620.5451049804688, 548.1950073242188, 634.9935302734375, 559.5702514648438], 'score': 0.5663272142410278}, {'Cargo Plane': [0.888470470905304, 163.86721801757812, 120.9725112915039, 233.10594177246094], 'score': 0.5661454796791077}, {'Cargo Plane': [616.62646484375, 546.4703979492188, 633.0997314453125, 556.7673950195312], 'score': 0.5650514960289001}, {'Cargo Plane': [615.9215698242188, 551.2975463867188, 633.3138427734375, 563.1387329101562], 'score': 0.5572015047073364}, {'Cargo Plane': [0.0, 107.6839370727539, 194.9051971435547, 256.3356628417969], 'score': 0.5497938394546509}, {'Cargo Plane': [623.7868041992188, 550.5260620117188, 637.169189453125, 565.0270385742188], 'score': 0.5360344052314758}, {'Cargo Plane': [611.221923828125, 562.0796508789062, 631.2430419921875, 572.4779052734375], 'score': 0.5338000655174255}, {'Cargo Plane': [630.8724365234375, 455.24151611328125, 638.4213256835938, 477.82745361328125], 'score': 0.5337476134300232}, {'Cargo Plane': [624.4539794921875, 524.2102661132812, 636.0493774414062, 544.7200317382812], 'score': 0.5310187339782715}, {'Cargo Plane': [620.0221557617188, 540.4667358398438, 636.4722290039062, 552.885009765625], 'score': 0.5282090902328491}, {'Cargo Plane': [624.9513549804688, 521.0711059570312, 633.8758544921875, 534.0333862304688], 'score': 0.523999810218811}, {'Cargo Plane': [629.8663330078125, 491.90118408203125, 638.4768676757812, 510.13653564453125], 'score': 0.5227944850921631}, {'Cargo Plane': [626.00048828125, 511.51055908203125, 635.572265625, 528.5886840820312], 'score': 0.5222432017326355}, {'Cargo Plane': [625.7322387695312, 424.194091796875, 638.0499267578125, 458.92144775390625], 'score': 0.5221008062362671}, {'Cargo Plane': [603.8831176757812, 556.1246337890625, 628.5372314453125, 566.7597045898438], 'score': 0.5159234404563904}, {'Cargo Plane': [203.4760284423828, 556.6205444335938, 319.965087890625, 631.670654296875], 'score': 0.5149056911468506}, {'Cargo Plane': [516.6384887695312, 518.990966796875, 531.7136840820312, 530.6963500976562], 'score': 0.5147048234939575}, {'Cargo Plane': [613.30419921875, 555.5064697265625, 633.3241577148438, 567.3347778320312], 'score': 0.5131101608276367}, {'Cargo Plane': [624.3068237304688, 518.3526611328125, 633.1962280273438, 529.8585205078125], 'score': 0.5123961567878723}, {'Cargo Plane': [607.0526733398438, 550.6105346679688, 628.3211669921875, 562.0872192382812], 'score': 0.5104062557220459}, {'Cargo Plane': [431.216796875, 496.2176818847656, 515.3917846679688, 598.9072265625], 'score': 0.5102677941322327}, {'Cargo Plane': [622.3558349609375, 562.36474609375, 636.3493041992188, 572.1290893554688], 'score': 0.5053148865699768}, {'Cargo Plane': [629.0502319335938, 416.6268615722656, 639.1760864257812, 435.4229431152344], 'score': 0.5022773146629333}, {'Cargo Plane': [519.2557373046875, 520.5110473632812, 534.3229370117188, 539.9723510742188], 'score': 0.4997565746307373}, {'Cargo Plane': [629.825927734375, 499.3808288574219, 638.5697021484375, 516.8031005859375], 'score': 0.49967119097709656}, {'Cargo Plane': [629.5346069335938, 523.770751953125, 638.3922119140625, 541.5335693359375], 'score': 0.4988519251346588}, {'Cargo Plane': [622.9197998046875, 533.927001953125, 636.2879638671875, 548.7676391601562], 'score': 0.49881264567375183}, {'Cargo Plane': [602.58349609375, 556.3290405273438, 627.1881103515625, 576.4120483398438], 'score': 0.4974210560321808}, {'Cargo Plane': [617.7572021484375, 538.3201293945312, 630.7046508789062, 554.2372436523438], 'score': 0.4971742331981659}, {'Cargo Plane': [560.0650634765625, 399.29644775390625, 635.3191528320312, 637.125732421875], 'score': 0.496194064617157}, {'Cargo Plane': [630.8869018554688, 430.06689453125, 639.949951171875, 460.13604736328125], 'score': 0.4959644675254822}, {'Cargo Plane': [513.3131103515625, 524.7013549804688, 535.5574340820312, 537.2464599609375], 'score': 0.495313823223114}, {'Cargo Plane': [513.80859375, 515.2432861328125, 534.6181030273438, 528.1384887695312], 'score': 0.49372598528862}, {'Cargo Plane': [212.7339324951172, 464.27593994140625, 395.806396484375, 622.3338623046875], 'score': 0.493412584066391}, {'Cargo Plane': [629.79296875, 511.416015625, 637.8510131835938, 527.1954956054688], 'score': 0.4933260679244995}, {'Cargo Plane': [625.8713989257812, 414.9222717285156, 639.7931518554688, 429.0406188964844], 'score': 0.48863744735717773}, {'Cargo Plane': [626.11181640625, 504.9849548339844, 636.0352783203125, 522.9313354492188], 'score': 0.4885178208351135}, {'Cargo Plane': [616.7603759765625, 520.9356079101562, 626.33642578125, 533.9740600585938], 'score': 0.488506019115448}, {'Cargo Plane': [523.5739135742188, 515.8043212890625, 536.9703369140625, 531.5940551757812], 'score': 0.4875754117965698}, {'Cargo Plane': [461.13232421875, 226.29544067382812, 511.9273376464844, 448.9452209472656], 'score': 0.48726770281791687}, {'Cargo Plane': [619.333984375, 533.7711181640625, 632.7734375, 545.2522583007812], 'score': 0.4869963824748993}, {'Cargo Plane': [630.2308959960938, 545.1220092773438, 639.1144409179688, 559.1227416992188], 'score': 0.485407292842865}, {'Cargo Plane': [518.7734375, 512.2409057617188, 532.3665161132812, 523.6759643554688], 'score': 0.48534590005874634}, {'Cargo Plane': [546.3076171875, 529.1882934570312, 634.3634643554688, 615.4758911132812], 'score': 0.48399972915649414}, {'Cargo Plane': [630.1414794921875, 550.7110595703125, 639.2437133789062, 563.7351684570312], 'score': 0.48351433873176575}, {'Cargo Plane': [227.36485290527344, 569.4740600585938, 308.16876220703125, 619.9120483398438], 'score': 0.4832606315612793}, {'Cargo Plane': [0.0, 600.3366088867188, 233.75230407714844, 639.9323120117188], 'score': 0.48260316252708435}, {'Cargo Plane': [0.0, 293.434814453125, 232.85595703125, 640.0], 'score': 0.4825035035610199}, {'Cargo Plane': [408.7106628417969, 223.5127716064453, 462.7566833496094, 272.9070129394531], 'score': 0.4821455776691437}, {'Cargo Plane': [9.483957290649414, 9.75510311126709, 81.95975494384766, 511.45782470703125], 'score': 0.4812178611755371}, {'Cargo Plane': [191.4361114501953, 558.9874267578125, 585.9600830078125, 640.0], 'score': 0.4809131920337677}, {'Cargo Plane': [510.8671875, 521.3721313476562, 531.4996337890625, 534.0223999023438], 'score': 0.480490118265152}, {'Cargo Plane': [1.5042206048965454, 512.2584228515625, 54.475257873535156, 640.0], 'score': 0.4800426959991455}, {'Cargo Plane': [3.9954164028167725, 1.6709473133087158, 197.3485107421875, 492.86480712890625], 'score': 0.4797285497188568}, {'Cargo Plane': [631.7173461914062, 316.3248596191406, 638.9137573242188, 345.9969177246094], 'score': 0.4793948233127594}, {'Cargo Plane': [287.3642272949219, 428.00543212890625, 376.1797790527344, 474.7169494628906], 'score': 0.47764718532562256}, {'Cargo Plane': [595.0267944335938, 375.4991760253906, 637.1483764648438, 640.0], 'score': 0.476982980966568}, {'Cargo Plane': [8.913006782531738, 562.8916625976562, 176.4027862548828, 639.2059326171875], 'score': 0.47655928134918213}, {'Cargo Plane': [600.8270263671875, 451.2723693847656, 609.3994750976562, 466.9152526855469], 'score': 0.47634679079055786}, {'Cargo Plane': [602.7372436523438, 313.24188232421875, 619.0003051757812, 323.8496398925781], 'score': 0.47600236535072327}, {'Cargo Plane': [25.543811798095703, 571.5657958984375, 427.2768249511719, 640.0], 'score': 0.4749308228492737}, {'Cargo Plane': [309.11578369140625, 415.1812438964844, 618.8324584960938, 640.0], 'score': 0.4742332696914673}, {'Cargo Plane': [205.2571258544922, 358.1605224609375, 391.02569580078125, 526.4313354492188], 'score': 0.47355347871780396}, {'Cargo Plane': [515.4547729492188, 109.2834701538086, 617.3530883789062, 549.0735473632812], 'score': 0.47290679812431335}, {'Cargo Plane': [602.6039428710938, 547.8023071289062, 624.62158203125, 559.2382202148438], 'score': 0.47290268540382385}, {'Cargo Plane': [576.9730834960938, 560.32958984375, 599.0040893554688, 568.9345703125], 'score': 0.4724653959274292}, {'Cargo Plane': [623.87109375, 281.0840148925781, 639.7240600585938, 462.056396484375], 'score': 0.4718206524848938}, {'Cargo Plane': [544.16552734375, 10.59171199798584, 634.9374389648438, 411.0624694824219], 'score': 0.4709436893463135}, {'Cargo Plane': [615.8427124023438, 413.5182800292969, 634.1439819335938, 429.9051818847656], 'score': 0.46943384408950806}, {'Cargo Plane': [403.06640625, 235.36965942382812, 448.5096740722656, 278.43206787109375], 'score': 0.4693065583705902}, {'Cargo Plane': [601.1732788085938, 562.180419921875, 621.1820678710938, 571.5947875976562], 'score': 0.4691784083843231}, {'Cargo Plane': [620.1666259765625, 410.31005859375, 637.03662109375, 425.4953308105469], 'score': 0.4691692888736725}, {'Cargo Plane': [513.146240234375, 508.11822509765625, 533.7003784179688, 521.4464721679688], 'score': 0.46847474575042725}, {'Cargo Plane': [603.5906982421875, 446.37548828125, 614.1475219726562, 464.7469787597656], 'score': 0.4682680368423462}, {'Cargo Plane': [566.1801147460938, 99.5549087524414, 639.209228515625, 543.8798217773438], 'score': 0.46810728311538696}, {'Cargo Plane': [623.3702392578125, 391.15533447265625, 637.8623046875, 425.7138671875], 'score': 0.4677462577819824}, {'Cargo Plane': [0.0, 140.1066436767578, 154.54368591308594, 329.1231384277344], 'score': 0.46741440892219543}, {'Cargo Plane': [630.3472290039062, 377.5758972167969, 639.0062255859375, 403.7754821777344], 'score': 0.46696677803993225}, {'Cargo Plane': [468.6148376464844, 113.63111877441406, 557.3578491210938, 457.1427917480469], 'score': 0.4656168818473816}, {'Cargo Plane': [512.078369140625, 520.07568359375, 536.322509765625, 546.4672241210938], 'score': 0.4655604064464569}, {'Cargo Plane': [570.5783081054688, 561.8282470703125, 585.9794311523438, 570.98876953125], 'score': 0.4648248255252838}, {'Cargo Plane': [613.8347778320312, 531.8310546875, 634.4638061523438, 551.8668212890625], 'score': 0.46473458409309387}, {'Cargo Plane': [632.1843872070312, 297.4439392089844, 639.0944213867188, 315.05352783203125], 'score': 0.46469956636428833}, {'Cargo Plane': [0.01489868201315403, 446.27203369140625, 122.1718521118164, 624.3758544921875], 'score': 0.46430373191833496}, {'Cargo Plane': [0.0, 0.0, 422.7171325683594, 408.34136962890625], 'score': 0.46387916803359985}, {'Cargo Plane': [625.7579956054688, 435.2770080566406, 638.2330932617188, 472.719482421875], 'score': 0.46368643641471863}, {'Cargo Plane': [630.0601806640625, 536.5053100585938, 639.3019409179688, 553.7059936523438], 'score': 0.4632483124732971}, {'Cargo Plane': [512.9486083984375, 528.9053955078125, 536.0153198242188, 541.65283203125], 'score': 0.46302852034568787}, {'Cargo Plane': [629.9805908203125, 424.7704772949219, 639.0250244140625, 448.90582275390625], 'score': 0.46281567215919495}, {'Cargo Plane': [628.8721313476562, 307.6382751464844, 638.9877319335938, 327.6032409667969], 'score': 0.46169573068618774}, {'Cargo Plane': [596.79931640625, 456.48883056640625, 617.4208984375, 475.6756286621094], 'score': 0.46147340536117554}, {'Cargo Plane': [167.69920349121094, 14.384180068969727, 275.3960266113281, 135.42100524902344], 'score': 0.46138796210289}, {'Cargo Plane': [630.0965576171875, 389.8418884277344, 639.0866088867188, 417.65045166015625], 'score': 0.4610315263271332}, {'Cargo Plane': [164.9027862548828, 517.2902221679688, 504.01904296875, 635.5491943359375], 'score': 0.4598701000213623}, {'Cargo Plane': [604.605224609375, 556.6968383789062, 619.1563110351562, 569.053955078125], 'score': 0.45939570665359497}, {'Cargo Plane': [0.772412121295929, 529.1988525390625, 254.1846160888672, 640.0], 'score': 0.4593818187713623}, {'Cargo Plane': [625.6801147460938, 558.501953125, 637.4434814453125, 569.3549194335938], 'score': 0.4590916037559509}, {'Cargo Plane': [616.8031616210938, 553.5870361328125, 638.212158203125, 572.5712280273438], 'score': 0.4589569568634033}, {'Cargo Plane': [523.3198852539062, 509.8656921386719, 535.871337890625, 526.8873901367188], 'score': 0.4589502513408661}, {'Cargo Plane': [631.255615234375, 559.7465209960938, 638.9351196289062, 575.4879150390625], 'score': 0.45871421694755554}]]}\n"
     ]
    }
   ],
   "source": [
    "print(response.json())"
   ]
  },
  {
   "cell_type": "code",
   "execution_count": null,
   "id": "cc9c2625-1585-4374-b71a-9bca3c34843f",
   "metadata": {},
   "outputs": [],
   "source": []
  }
 ],
 "metadata": {
  "kernelspec": {
   "display_name": "Python 3 (ipykernel)",
   "language": "python",
   "name": "python3"
  },
  "language_info": {
   "codemirror_mode": {
    "name": "ipython",
    "version": 3
   },
   "file_extension": ".py",
   "mimetype": "text/x-python",
   "name": "python",
   "nbconvert_exporter": "python",
   "pygments_lexer": "ipython3",
   "version": "3.9.18"
  }
 },
 "nbformat": 4,
 "nbformat_minor": 5
}
