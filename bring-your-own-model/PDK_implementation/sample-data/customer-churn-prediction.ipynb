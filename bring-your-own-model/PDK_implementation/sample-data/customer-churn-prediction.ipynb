{
 "cells": [
  {
   "cell_type": "code",
   "execution_count": 1,
   "id": "00608227-46ff-4450-81e6-347c67edf5be",
   "metadata": {},
   "outputs": [],
   "source": [
    "import glob\n",
    "import json\n",
    "import requests"
   ]
  },
  {
   "cell_type": "code",
   "execution_count": 7,
   "id": "61a9239d-63ab-463b-8548-e81b0b63ff33",
   "metadata": {},
   "outputs": [],
   "source": [
    "ingress_host=\"192.168.1.2\"\n",
    "ingress_port=80\n",
    "model_name=\"customer-churn\"\n",
    "service_hostname=\"customer-churn.models.example.com\""
   ]
  },
  {
   "cell_type": "code",
   "execution_count": 8,
   "id": "583a7bbd-4d71-4382-93e0-302b9567c5dc",
   "metadata": {},
   "outputs": [],
   "source": [
    "sample_file = \"./customer_churn_sample.json\"\n",
    "f = open(sample_file)\n",
    "sample_data = json.load(f)\n",
    "f.close()"
   ]
  },
  {
   "cell_type": "code",
   "execution_count": 9,
   "id": "5bcc37ae-2892-4218-a603-8ab360bd3e1c",
   "metadata": {},
   "outputs": [],
   "source": [
    "request = {\n",
    "  \"instances\":[\n",
    "    {\n",
    "      \"data\": sample_data\n",
    "    }\n",
    "  ]\n",
    "}"
   ]
  },
  {
   "cell_type": "code",
   "execution_count": 10,
   "id": "991794c4-69b3-4d33-bca4-10218d368778",
   "metadata": {},
   "outputs": [],
   "source": [
    "url = str(\"http://\") + str(ingress_host) + \":\" + str(ingress_port) + \"/v1/models/\" + str(model_name) + \":predict\"\n",
    "headers = {'Host': service_hostname}\n",
    "payload = json.dumps(request)"
   ]
  },
  {
   "cell_type": "code",
   "execution_count": 11,
   "id": "175f0317-8c82-4c0a-bbd5-0eb3483d5200",
   "metadata": {},
   "outputs": [
    {
     "name": "stdout",
     "output_type": "stream",
     "text": [
      "{'predictions': [[0.0], [0.0], [1.0], [0.0], [0.0], [1.0], [1.0], [1.0], [0.0], [0.0]]}\n"
     ]
    }
   ],
   "source": [
    "response = requests.post(url, data=payload, headers=headers)\n",
    "output = response.json()\n",
    "print(output)"
   ]
  },
  {
   "cell_type": "code",
   "execution_count": 12,
   "id": "575419e5-aa09-41b0-a08f-0d47fd3878c8",
   "metadata": {},
   "outputs": [
    {
     "name": "stdout",
     "output_type": "stream",
     "text": [
      "Ground truth/Predicted: 1/0\n",
      "Ground truth/Predicted: 0/0\n",
      "Ground truth/Predicted: 1/1\n",
      "Ground truth/Predicted: 0/0\n",
      "Ground truth/Predicted: 0/0\n",
      "Ground truth/Predicted: 1/1\n",
      "Ground truth/Predicted: 1/1\n",
      "Ground truth/Predicted: 1/1\n",
      "Ground truth/Predicted: 0/0\n",
      "Ground truth/Predicted: 1/0\n"
     ]
    }
   ],
   "source": [
    "for i in range(len(output['predictions'])):\n",
    "    sample_result = int(output['predictions'][i][0])\n",
    "    ground_truth = sample_data['churn'][str(i)]\n",
    "    print(\"Ground truth/Predicted: \" + str(ground_truth) + \"/\" + str(sample_result))"
   ]
  },
  {
   "cell_type": "code",
   "execution_count": null,
   "id": "aa647d19-6bf3-4bf0-b07d-4136ccedc10a",
   "metadata": {},
   "outputs": [],
   "source": []
  }
 ],
 "metadata": {
  "kernelspec": {
   "display_name": "Python 3 (ipykernel)",
   "language": "python",
   "name": "python3"
  },
  "language_info": {
   "codemirror_mode": {
    "name": "ipython",
    "version": 3
   },
   "file_extension": ".py",
   "mimetype": "text/x-python",
   "name": "python",
   "nbconvert_exporter": "python",
   "pygments_lexer": "ipython3",
   "version": "3.9.18"
  }
 },
 "nbformat": 4,
 "nbformat_minor": 5
}
